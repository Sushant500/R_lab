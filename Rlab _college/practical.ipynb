{
  "nbformat": 4,
  "nbformat_minor": 0,
  "metadata": {
    "colab": {
      "name": "Untitled9.ipynb",
      "provenance": [],
      "authorship_tag": "ABX9TyMmi8xPIRL8ccyhWLUFSx4o"
    },
    "kernelspec": {
      "name": "ir",
      "display_name": "R"
    },
    "language_info": {
      "name": "R"
    }
  },
  "cells": [
    {
      "cell_type": "code",
      "metadata": {
        "id": "NfX7oEujMemK"
      },
      "source": [
        "car_sales <- read.csv(\"/content/car-sales-extended-missing-data.csv\")\n"
      ],
      "execution_count": 113,
      "outputs": []
    },
    {
      "cell_type": "code",
      "metadata": {
        "colab": {
          "base_uri": "https://localhost:8080/",
          "height": 295
        },
        "id": "tpLgO1A3NKzj",
        "outputId": "b2855199-4591-4913-9c0e-fe92a8c131b1"
      },
      "source": [
        "dim(car_sales)\n",
        "head(car_sales,6)"
      ],
      "execution_count": 114,
      "outputs": [
        {
          "output_type": "display_data",
          "data": {
            "text/plain": [
              "[1] 1000    5"
            ],
            "text/latex": "\\begin{enumerate*}\n\\item 1000\n\\item 5\n\\end{enumerate*}\n",
            "text/markdown": "1. 1000\n2. 5\n\n\n",
            "text/html": [
              "<style>\n",
              ".list-inline {list-style: none; margin:0; padding: 0}\n",
              ".list-inline>li {display: inline-block}\n",
              ".list-inline>li:not(:last-child)::after {content: \"\\00b7\"; padding: 0 .5ex}\n",
              "</style>\n",
              "<ol class=list-inline><li>1000</li><li>5</li></ol>\n"
            ]
          },
          "metadata": {
            "tags": []
          }
        },
        {
          "output_type": "display_data",
          "data": {
            "text/plain": [
              "  Make   Colour Odometer..KM. Doors Price\n",
              "1 Honda  White   35431        4     15323\n",
              "2 BMW    Blue   192714        5     19943\n",
              "3 Honda  White   84714        4     28343\n",
              "4 Toyota White  154365        4     13434\n",
              "5 Nissan Blue   181577        3     14043\n",
              "6 Honda  Red     42652        4     23883"
            ],
            "text/latex": "A data.frame: 6 × 5\n\\begin{tabular}{r|lllll}\n  & Make & Colour & Odometer..KM. & Doors & Price\\\\\n  & <chr> & <chr> & <dbl> & <dbl> & <dbl>\\\\\n\\hline\n\t1 & Honda  & White &  35431 & 4 & 15323\\\\\n\t2 & BMW    & Blue  & 192714 & 5 & 19943\\\\\n\t3 & Honda  & White &  84714 & 4 & 28343\\\\\n\t4 & Toyota & White & 154365 & 4 & 13434\\\\\n\t5 & Nissan & Blue  & 181577 & 3 & 14043\\\\\n\t6 & Honda  & Red   &  42652 & 4 & 23883\\\\\n\\end{tabular}\n",
            "text/markdown": "\nA data.frame: 6 × 5\n\n| <!--/--> | Make &lt;chr&gt; | Colour &lt;chr&gt; | Odometer..KM. &lt;dbl&gt; | Doors &lt;dbl&gt; | Price &lt;dbl&gt; |\n|---|---|---|---|---|---|\n| 1 | Honda  | White |  35431 | 4 | 15323 |\n| 2 | BMW    | Blue  | 192714 | 5 | 19943 |\n| 3 | Honda  | White |  84714 | 4 | 28343 |\n| 4 | Toyota | White | 154365 | 4 | 13434 |\n| 5 | Nissan | Blue  | 181577 | 3 | 14043 |\n| 6 | Honda  | Red   |  42652 | 4 | 23883 |\n\n",
            "text/html": [
              "<table class=\"dataframe\">\n",
              "<caption>A data.frame: 6 × 5</caption>\n",
              "<thead>\n",
              "\t<tr><th></th><th scope=col>Make</th><th scope=col>Colour</th><th scope=col>Odometer..KM.</th><th scope=col>Doors</th><th scope=col>Price</th></tr>\n",
              "\t<tr><th></th><th scope=col>&lt;chr&gt;</th><th scope=col>&lt;chr&gt;</th><th scope=col>&lt;dbl&gt;</th><th scope=col>&lt;dbl&gt;</th><th scope=col>&lt;dbl&gt;</th></tr>\n",
              "</thead>\n",
              "<tbody>\n",
              "\t<tr><th scope=row>1</th><td>Honda </td><td>White</td><td> 35431</td><td>4</td><td>15323</td></tr>\n",
              "\t<tr><th scope=row>2</th><td>BMW   </td><td>Blue </td><td>192714</td><td>5</td><td>19943</td></tr>\n",
              "\t<tr><th scope=row>3</th><td>Honda </td><td>White</td><td> 84714</td><td>4</td><td>28343</td></tr>\n",
              "\t<tr><th scope=row>4</th><td>Toyota</td><td>White</td><td>154365</td><td>4</td><td>13434</td></tr>\n",
              "\t<tr><th scope=row>5</th><td>Nissan</td><td>Blue </td><td>181577</td><td>3</td><td>14043</td></tr>\n",
              "\t<tr><th scope=row>6</th><td>Honda </td><td>Red  </td><td> 42652</td><td>4</td><td>23883</td></tr>\n",
              "</tbody>\n",
              "</table>\n"
            ]
          },
          "metadata": {
            "tags": []
          }
        }
      ]
    },
    {
      "cell_type": "code",
      "metadata": {
        "id": "OpX8B4RqrkaQ",
        "colab": {
          "base_uri": "https://localhost:8080/",
          "height": 285
        },
        "outputId": "2037aa5a-fb37-4926-8a04-39beb277343d"
      },
      "source": [
        "library(dplyr)\n",
        "\n",
        "summary(car_sales)"
      ],
      "execution_count": 115,
      "outputs": [
        {
          "output_type": "display_data",
          "data": {
            "text/plain": [
              "     Make              Colour          Odometer..KM.        Doors      \n",
              " Length:1000        Length:1000        Min.   : 10148   Min.   :3.000  \n",
              " Class :character   Class :character   1st Qu.: 70391   1st Qu.:4.000  \n",
              " Mode  :character   Mode  :character   Median :131821   Median :4.000  \n",
              "                                       Mean   :131253   Mean   :4.012  \n",
              "                                       3rd Qu.:192668   3rd Qu.:4.000  \n",
              "                                       Max.   :249860   Max.   :5.000  \n",
              "                                       NA's   :50       NA's   :50     \n",
              "     Price      \n",
              " Min.   : 2796  \n",
              " 1st Qu.: 9529  \n",
              " Median :14297  \n",
              " Mean   :16043  \n",
              " 3rd Qu.:20806  \n",
              " Max.   :52458  \n",
              " NA's   :50     "
            ]
          },
          "metadata": {
            "tags": []
          }
        }
      ]
    },
    {
      "cell_type": "code",
      "metadata": {
        "id": "-oAiQLZCr68N",
        "colab": {
          "base_uri": "https://localhost:8080/",
          "height": 33
        },
        "outputId": "fcf21b36-2b4b-4d46-9962-3db059e1d824"
      },
      "source": [
        "class(car_sales)"
      ],
      "execution_count": 116,
      "outputs": [
        {
          "output_type": "display_data",
          "data": {
            "text/plain": [
              "[1] \"data.frame\""
            ],
            "text/latex": "'data.frame'",
            "text/markdown": "'data.frame'",
            "text/html": [
              "'data.frame'"
            ]
          },
          "metadata": {
            "tags": []
          }
        }
      ]
    },
    {
      "cell_type": "code",
      "metadata": {
        "id": "g7npmDSQruuj",
        "colab": {
          "base_uri": "https://localhost:8080/",
          "height": 84
        },
        "outputId": "4152e0f7-8aef-44eb-f175-a1218c54d596"
      },
      "source": [
        "paste('Min.Lower.Medain.Upper.Max')\n",
        "fivenum(car_sales$Odometer)\n",
        "fivenum(car_sales$Doors)\n",
        "fivenum(car_sales$Price)"
      ],
      "execution_count": 117,
      "outputs": [
        {
          "output_type": "display_data",
          "data": {
            "text/plain": [
              "[1] \"Min.Lower.Medain.Upper.Max\""
            ],
            "text/latex": "'Min.Lower.Medain.Upper.Max'",
            "text/markdown": "'Min.Lower.Medain.Upper.Max'",
            "text/html": [
              "'Min.Lower.Medain.Upper.Max'"
            ]
          },
          "metadata": {
            "tags": []
          }
        },
        {
          "output_type": "display_data",
          "data": {
            "text/plain": [
              "[1]  10148  70154 131821 192673 249860"
            ],
            "text/latex": "\\begin{enumerate*}\n\\item 10148\n\\item 70154\n\\item 131821\n\\item 192673\n\\item 249860\n\\end{enumerate*}\n",
            "text/markdown": "1. 10148\n2. 70154\n3. 131821\n4. 192673\n5. 249860\n\n\n",
            "text/html": [
              "<style>\n",
              ".list-inline {list-style: none; margin:0; padding: 0}\n",
              ".list-inline>li {display: inline-block}\n",
              ".list-inline>li:not(:last-child)::after {content: \"\\00b7\"; padding: 0 .5ex}\n",
              "</style>\n",
              "<ol class=list-inline><li>10148</li><li>70154</li><li>131821</li><li>192673</li><li>249860</li></ol>\n"
            ]
          },
          "metadata": {
            "tags": []
          }
        },
        {
          "output_type": "display_data",
          "data": {
            "text/plain": [
              "[1] 3 4 4 4 5"
            ],
            "text/latex": "\\begin{enumerate*}\n\\item 3\n\\item 4\n\\item 4\n\\item 4\n\\item 5\n\\end{enumerate*}\n",
            "text/markdown": "1. 3\n2. 4\n3. 4\n4. 4\n5. 5\n\n\n",
            "text/html": [
              "<style>\n",
              ".list-inline {list-style: none; margin:0; padding: 0}\n",
              ".list-inline>li {display: inline-block}\n",
              ".list-inline>li:not(:last-child)::after {content: \"\\00b7\"; padding: 0 .5ex}\n",
              "</style>\n",
              "<ol class=list-inline><li>3</li><li>4</li><li>4</li><li>4</li><li>5</li></ol>\n"
            ]
          },
          "metadata": {
            "tags": []
          }
        },
        {
          "output_type": "display_data",
          "data": {
            "text/plain": [
              "[1]  2796  9529 14297 20840 52458"
            ],
            "text/latex": "\\begin{enumerate*}\n\\item 2796\n\\item 9529\n\\item 14297\n\\item 20840\n\\item 52458\n\\end{enumerate*}\n",
            "text/markdown": "1. 2796\n2. 9529\n3. 14297\n4. 20840\n5. 52458\n\n\n",
            "text/html": [
              "<style>\n",
              ".list-inline {list-style: none; margin:0; padding: 0}\n",
              ".list-inline>li {display: inline-block}\n",
              ".list-inline>li:not(:last-child)::after {content: \"\\00b7\"; padding: 0 .5ex}\n",
              "</style>\n",
              "<ol class=list-inline><li>2796</li><li>9529</li><li>14297</li><li>20840</li><li>52458</li></ol>\n"
            ]
          },
          "metadata": {
            "tags": []
          }
        }
      ]
    },
    {
      "cell_type": "code",
      "metadata": {
        "colab": {
          "base_uri": "https://localhost:8080/",
          "height": 84
        },
        "id": "pmaqhMLEt1__",
        "outputId": "8d315f12-8dea-4a26-c6d8-6cb5b3da015b"
      },
      "source": [
        "data_slice <- car_sales %>% select(Make:Colour)\n",
        "summary(data_slice)"
      ],
      "execution_count": 118,
      "outputs": [
        {
          "output_type": "display_data",
          "data": {
            "text/plain": [
              "     Make              Colour         \n",
              " Length:1000        Length:1000       \n",
              " Class :character   Class :character  \n",
              " Mode  :character   Mode  :character  "
            ]
          },
          "metadata": {
            "tags": []
          }
        }
      ]
    },
    {
      "cell_type": "code",
      "metadata": {
        "colab": {
          "base_uri": "https://localhost:8080/",
          "height": 33
        },
        "id": "ULzETFr2uaDg",
        "outputId": "50f3af6c-eadc-4ea8-fa89-69bbad808fc7"
      },
      "source": [
        "bb <- car_sales['Price']\n",
        "sample(bb[1:10,])"
      ],
      "execution_count": 119,
      "outputs": [
        {
          "output_type": "display_data",
          "data": {
            "text/plain": [
              " [1]  8473 20306 13434  9374 28343 19943 14043 26683 15323 23883"
            ],
            "text/latex": "\\begin{enumerate*}\n\\item 8473\n\\item 20306\n\\item 13434\n\\item 9374\n\\item 28343\n\\item 19943\n\\item 14043\n\\item 26683\n\\item 15323\n\\item 23883\n\\end{enumerate*}\n",
            "text/markdown": "1. 8473\n2. 20306\n3. 13434\n4. 9374\n5. 28343\n6. 19943\n7. 14043\n8. 26683\n9. 15323\n10. 23883\n\n\n",
            "text/html": [
              "<style>\n",
              ".list-inline {list-style: none; margin:0; padding: 0}\n",
              ".list-inline>li {display: inline-block}\n",
              ".list-inline>li:not(:last-child)::after {content: \"\\00b7\"; padding: 0 .5ex}\n",
              "</style>\n",
              "<ol class=list-inline><li>8473</li><li>20306</li><li>13434</li><li>9374</li><li>28343</li><li>19943</li><li>14043</li><li>26683</li><li>15323</li><li>23883</li></ol>\n"
            ]
          },
          "metadata": {
            "tags": []
          }
        }
      ]
    },
    {
      "cell_type": "markdown",
      "metadata": {
        "id": "tg43jqco-Gyu"
      },
      "source": [
        "3:"
      ]
    },
    {
      "cell_type": "code",
      "metadata": {
        "id": "BfgPKKR55HMs"
      },
      "source": [
        "#3"
      ],
      "execution_count": 141,
      "outputs": []
    },
    {
      "cell_type": "code",
      "metadata": {
        "colab": {
          "base_uri": "https://localhost:8080/",
          "height": 33
        },
        "id": "GTf0z-JauxV8",
        "outputId": "f6d42b24-69e1-44b6-9752-ec7edff0a63b"
      },
      "source": [
        "# a. find out how many values are missing in each of the columns of your data set.\n",
        "tar <- car_sales$target\n",
        "sapply(car_sales, function(tar) sum(is.na(tar)))"
      ],
      "execution_count": 93,
      "outputs": [
        {
          "output_type": "display_data",
          "data": {
            "text/plain": [
              "         Make        Colour Odometer..KM.         Doors         Price \n",
              "            0             0            50            50            50 "
            ],
            "text/latex": "\\begin{description*}\n\\item[Make] 0\n\\item[Colour] 0\n\\item[Odometer..KM.] 50\n\\item[Doors] 50\n\\item[Price] 50\n\\end{description*}\n",
            "text/markdown": "Make\n:   0Colour\n:   0Odometer..KM.\n:   50Doors\n:   50Price\n:   50\n\n",
            "text/html": [
              "<style>\n",
              ".dl-inline {width: auto; margin:0; padding: 0}\n",
              ".dl-inline>dt, .dl-inline>dd {float: none; width: auto; display: inline-block}\n",
              ".dl-inline>dt::after {content: \":\\0020\"; padding-right: .5ex}\n",
              ".dl-inline>dt:not(:first-of-type) {padding-left: .5ex}\n",
              "</style><dl class=dl-inline><dt>Make</dt><dd>0</dd><dt>Colour</dt><dd>0</dd><dt>Odometer..KM.</dt><dd>50</dd><dt>Doors</dt><dd>50</dd><dt>Price</dt><dd>50</dd></dl>\n"
            ]
          },
          "metadata": {
            "tags": []
          }
        }
      ]
    },
    {
      "cell_type": "code",
      "metadata": {
        "id": "rWLlZeCdvUt5"
      },
      "source": [
        "# b. select colum with more than 10% values missing for deletation. Create new copy of dataset\n",
        "# that has one less column call it sample_data_1less.\n",
        "\n",
        "## Remove columns with more than 10% NA\n",
        "dataless1 <-car_sales[, which(colMeans(!is.na(car_sales)) > 0.1)]"
      ],
      "execution_count": 94,
      "outputs": []
    },
    {
      "cell_type": "code",
      "metadata": {
        "colab": {
          "base_uri": "https://localhost:8080/",
          "height": 285
        },
        "id": "lft1uKanvmC1",
        "outputId": "5adbc84f-f8ee-4a80-a645-9bcc1477d76b"
      },
      "source": [
        "summary(dataless1)"
      ],
      "execution_count": 95,
      "outputs": [
        {
          "output_type": "display_data",
          "data": {
            "text/plain": [
              "     Make              Colour          Odometer..KM.        Doors      \n",
              " Length:1000        Length:1000        Min.   : 10148   Min.   :3.000  \n",
              " Class :character   Class :character   1st Qu.: 70391   1st Qu.:4.000  \n",
              " Mode  :character   Mode  :character   Median :131821   Median :4.000  \n",
              "                                       Mean   :131253   Mean   :4.012  \n",
              "                                       3rd Qu.:192668   3rd Qu.:4.000  \n",
              "                                       Max.   :249860   Max.   :5.000  \n",
              "                                       NA's   :50       NA's   :50     \n",
              "     Price      \n",
              " Min.   : 2796  \n",
              " 1st Qu.: 9529  \n",
              " Median :14297  \n",
              " Mean   :16043  \n",
              " 3rd Qu.:20806  \n",
              " Max.   :52458  \n",
              " NA's   :50     "
            ]
          },
          "metadata": {
            "tags": []
          }
        }
      ]
    },
    {
      "cell_type": "code",
      "metadata": {
        "colab": {
          "base_uri": "https://localhost:8080/",
          "height": 134
        },
        "id": "BNH07hMXv7Cs",
        "outputId": "cb1bd2cf-aac3-4dc7-d9bd-d95311e79a39"
      },
      "source": [
        "# d. For attribute having maximum spread delete all tuples that have value less than the mean of the\n",
        "# attribute selected. Count the number of tuples reamining in the sampled dataset.\n",
        "\n",
        "m <- mean(car_sales$Doors, na.rm = FALSE)\n",
        "m\n",
        "\n",
        "df2 <- subset(car_sales, car_sales$Doors< m)\n",
        "summary(df2$tDoors)\n",
        "print('Rows before row deletion: ')\n",
        "nrow(data)\n",
        "print('Rows before row deletion: ')\n",
        "nrow(df2)"
      ],
      "execution_count": 96,
      "outputs": [
        {
          "output_type": "display_data",
          "data": {
            "text/plain": [
              "[1] NA"
            ],
            "text/latex": "<NA>",
            "text/markdown": "&lt;NA&gt;",
            "text/html": [
              "&lt;NA&gt;"
            ]
          },
          "metadata": {
            "tags": []
          }
        },
        {
          "output_type": "display_data",
          "data": {
            "text/plain": [
              "Length  Class   Mode \n",
              "     0   NULL   NULL "
            ]
          },
          "metadata": {
            "tags": []
          }
        },
        {
          "output_type": "stream",
          "text": [
            "[1] \"Rows before row deletion: \"\n"
          ],
          "name": "stdout"
        },
        {
          "output_type": "display_data",
          "data": {
            "text/plain": [
              "NULL"
            ]
          },
          "metadata": {
            "tags": []
          }
        },
        {
          "output_type": "stream",
          "text": [
            "[1] \"Rows before row deletion: \"\n"
          ],
          "name": "stdout"
        },
        {
          "output_type": "display_data",
          "data": {
            "text/plain": [
              "[1] 0"
            ],
            "text/latex": "0",
            "text/markdown": "0",
            "text/html": [
              "0"
            ]
          },
          "metadata": {
            "tags": []
          }
        }
      ]
    },
    {
      "cell_type": "markdown",
      "metadata": {
        "id": "bYqK6oazyTUG"
      },
      "source": [
        "3:\n"
      ]
    },
    {
      "cell_type": "code",
      "metadata": {
        "colab": {
          "base_uri": "https://localhost:8080/",
          "height": 50
        },
        "id": "yCloLQrfxs9-",
        "outputId": "772e68f5-d723-43ca-d2af-fc0fe3ff4b5a"
      },
      "source": [
        "# a. print the 5 point statistical summary for any 2 numeric attributes from your data set\n",
        "fivenum(car_sales$Doors) \n",
        "fivenum(car_sales$Price)"
      ],
      "execution_count": 97,
      "outputs": [
        {
          "output_type": "display_data",
          "data": {
            "text/plain": [
              "[1] 3 4 4 4 5"
            ],
            "text/latex": "\\begin{enumerate*}\n\\item 3\n\\item 4\n\\item 4\n\\item 4\n\\item 5\n\\end{enumerate*}\n",
            "text/markdown": "1. 3\n2. 4\n3. 4\n4. 4\n5. 5\n\n\n",
            "text/html": [
              "<style>\n",
              ".list-inline {list-style: none; margin:0; padding: 0}\n",
              ".list-inline>li {display: inline-block}\n",
              ".list-inline>li:not(:last-child)::after {content: \"\\00b7\"; padding: 0 .5ex}\n",
              "</style>\n",
              "<ol class=list-inline><li>3</li><li>4</li><li>4</li><li>4</li><li>5</li></ol>\n"
            ]
          },
          "metadata": {
            "tags": []
          }
        },
        {
          "output_type": "display_data",
          "data": {
            "text/plain": [
              "[1]  2796  9529 14297 20840 52458"
            ],
            "text/latex": "\\begin{enumerate*}\n\\item 2796\n\\item 9529\n\\item 14297\n\\item 20840\n\\item 52458\n\\end{enumerate*}\n",
            "text/markdown": "1. 2796\n2. 9529\n3. 14297\n4. 20840\n5. 52458\n\n\n",
            "text/html": [
              "<style>\n",
              ".list-inline {list-style: none; margin:0; padding: 0}\n",
              ".list-inline>li {display: inline-block}\n",
              ".list-inline>li:not(:last-child)::after {content: \"\\00b7\"; padding: 0 .5ex}\n",
              "</style>\n",
              "<ol class=list-inline><li>2796</li><li>9529</li><li>14297</li><li>20840</li><li>52458</li></ol>\n"
            ]
          },
          "metadata": {
            "tags": []
          }
        }
      ]
    },
    {
      "cell_type": "code",
      "metadata": {
        "colab": {
          "base_uri": "https://localhost:8080/",
          "height": 454
        },
        "id": "fo_JLa14y06v",
        "outputId": "37ff0c0a-acf6-4bed-d2ce-cd7959f69a5a"
      },
      "source": [
        "# b. select 2 atributes have closest mean value and draw a scatter plot with proper x and labelsloi\n",
        "# ntt and title (for plotting you must use R library functions or gnuplot and not matplotlib )\n",
        "means<- colMeans(car_sales[sapply(car_sales, is.numeric)] )\n",
        "means\n",
        "\n",
        "library(ggplot2)\n",
        "\n",
        "Odometer..KM.<-car_sales$Odometer..KM.\n",
        "Price<-car_sales$Price\n",
        "plot(car_sales$Doors , car_sales$Price , main = \"Scatterplot\" , xlab = \"Doors\" , ylab = \"Price\" , las = 1 , xlim = c(0,2) , col = 2 )"
      ],
      "execution_count": 112,
      "outputs": [
        {
          "output_type": "display_data",
          "data": {
            "text/plain": [
              "Odometer..KM.         Doors         Price \n",
              "           NA            NA            NA "
            ],
            "text/latex": "\\begin{description*}\n\\item[Odometer..KM.] <NA>\n\\item[Doors] <NA>\n\\item[Price] <NA>\n\\end{description*}\n",
            "text/markdown": "Odometer..KM.\n:   &lt;NA&gt;Doors\n:   &lt;NA&gt;Price\n:   &lt;NA&gt;\n\n",
            "text/html": [
              "<style>\n",
              ".dl-inline {width: auto; margin:0; padding: 0}\n",
              ".dl-inline>dt, .dl-inline>dd {float: none; width: auto; display: inline-block}\n",
              ".dl-inline>dt::after {content: \":\\0020\"; padding-right: .5ex}\n",
              ".dl-inline>dt:not(:first-of-type) {padding-left: .5ex}\n",
              "</style><dl class=dl-inline><dt>Odometer..KM.</dt><dd>&lt;NA&gt;</dd><dt>Doors</dt><dd>&lt;NA&gt;</dd><dt>Price</dt><dd>&lt;NA&gt;</dd></dl>\n"
            ]
          },
          "metadata": {
            "tags": []
          }
        },
        {
          "output_type": "display_data",
          "data": {
            "image/png": "[encoded data removed]",
            "text/plain": [
              "Plot with title “Scatterplot”"
            ]
          },
          "metadata": {
            "tags": [],
            "image/png": {
              "width": 420,
              "height": 420
            }
          }
        }
      ]
    },
    {
      "cell_type": "code",
      "metadata": {
        "colab": {
          "base_uri": "https://localhost:8080/",
          "height": 437
        },
        "id": "9SIZwAHk0BCN",
        "outputId": "3ad1ceba-fb78-4dc9-be97-ddaa5742774f"
      },
      "source": [
        "# e. Write a R function to plot histogram of some specific input attribute for any data set provided\n",
        "new.function <- function(Price) {\n",
        "   hist(Price)\n",
        "}\n",
        "\n",
        "new.function(Price)"
      ],
      "execution_count": 100,
      "outputs": [
        {
          "output_type": "display_data",
          "data": {
            "image/png": "[encoded data removed]",
            "text/plain": [
              "Plot with title “Histogram of Price”"
            ]
          },
          "metadata": {
            "tags": [],
            "image/png": {
              "width": 420,
              "height": 420
            }
          }
        }
      ]
    },
    {
      "cell_type": "code",
      "metadata": {
        "colab": {
          "base_uri": "https://localhost:8080/",
          "height": 33
        },
        "id": "Qe3F98_b2atw",
        "outputId": "cfa318b7-5d8d-4c49-abeb-739090470f3e"
      },
      "source": [
        "cor(Odometer,Price, method = c(\"pearson\", \"kendall\", \"spearman\"))"
      ],
      "execution_count": 108,
      "outputs": [
        {
          "output_type": "display_data",
          "data": {
            "text/plain": [
              "[1] NA"
            ],
            "text/latex": "<NA>",
            "text/markdown": "&lt;NA&gt;",
            "text/html": [
              "&lt;NA&gt;"
            ]
          },
          "metadata": {
            "tags": []
          }
        }
      ]
    },
    {
      "cell_type": "code",
      "metadata": {
        "colab": {
          "base_uri": "https://localhost:8080/",
          "height": 437
        },
        "id": "zQATfrOn2akh",
        "outputId": "0e761908-f651-43ed-9758-508ff5ef037b"
      },
      "source": [
        "boxplot(Odometer,Price)\n",
        "title(\"Odometer vs. Price\")\n"
      ],
      "execution_count": 126,
      "outputs": [
        {
          "output_type": "display_data",
          "data": {
            "image/png": "[encoded data removed]",
            "text/plain": [
              "Plot with title “Odometer vs. Price”"
            ]
          },
          "metadata": {
            "tags": [],
            "image/png": {
              "width": 420,
              "height": 420
            }
          }
        }
      ]
    },
    {
      "cell_type": "code",
      "metadata": {
        "colab": {
          "base_uri": "https://localhost:8080/",
          "height": 437
        },
        "id": "KFX5Z2fv2wqk",
        "outputId": "4247ea8e-1224-4eff-e7eb-f1529022cb66"
      },
      "source": [
        "boxplot(Odometer~Price,data=car_sales, main=\"Box Plot\",\n",
        "   xlab=\"Odometer\", ylab=\"Price\")"
      ],
      "execution_count": 110,
      "outputs": [
        {
          "output_type": "display_data",
          "data": {
            "image/png": "[encoded data removed]",
            "text/plain": [
              "Plot with title “Box Plot”"
            ]
          },
          "metadata": {
            "tags": [],
            "image/png": {
              "width": 420,
              "height": 420
            }
          }
        }
      ]
    }
  ]
}